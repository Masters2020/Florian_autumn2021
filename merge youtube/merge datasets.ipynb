{
 "cells": [
  {
   "cell_type": "code",
   "execution_count": 17,
   "id": "8da076af-3094-4ff3-9541-74e52e44828c",
   "metadata": {},
   "outputs": [],
   "source": [
    "import csv\n",
    "import pandas as pd\n",
    "import os\n",
    "import numpy as np"
   ]
  },
  {
   "cell_type": "code",
   "execution_count": 2,
   "id": "059f4d6c-75ca-4cb2-84b4-e7b19f89c43e",
   "metadata": {},
   "outputs": [],
   "source": [
    "path = os.path.abspath('merge datasets.ipynb')  #this saves the path to this notebook and uses it as a base to access the required csvs\n",
    "dname = os.path.dirname(path)\n",
    "os.chdir(dname)"
   ]
  },
  {
   "cell_type": "code",
   "execution_count": 3,
   "id": "8ea90898-c5bd-44eb-ad21-2391a8197119",
   "metadata": {},
   "outputs": [],
   "source": [
    "final = dname + '\\\\final.csv' #exported as one from the notebook preprocessing"
   ]
  },
  {
   "cell_type": "code",
   "execution_count": 4,
   "id": "7d665368-80fa-40b0-85ea-f06ec658688d",
   "metadata": {},
   "outputs": [],
   "source": [
    "autumn2021 = dname + '\\\\data_autumn2021.csv' #exported as one from the notebook preprocessing"
   ]
  },
  {
   "cell_type": "code",
   "execution_count": 5,
   "id": "fca7ee78-4e4d-4c81-9be1-7a7c74812262",
   "metadata": {},
   "outputs": [],
   "source": [
    "final_df = pd.read_csv(final, skipinitialspace=True)"
   ]
  },
  {
   "cell_type": "code",
   "execution_count": 6,
   "id": "fbd40919-7ab4-45c2-8678-837ba9e6291d",
   "metadata": {},
   "outputs": [],
   "source": [
    "autumn_df = pd.read_csv(autumn2021, skipinitialspace=True)"
   ]
  },
  {
   "cell_type": "code",
   "execution_count": 7,
   "id": "499e42b6-a411-46c8-8a80-d59b07b10bdd",
   "metadata": {
    "tags": []
   },
   "outputs": [
    {
     "name": "stdout",
     "output_type": "stream",
     "text": [
      "             id                                         transcript  rating\n",
      "0   04wPQu3BC2k  [Music] hey what's up guys tyler here with sec...       2\n",
      "1   WAeBPskvP4Y  oh [Music] so there it is the earth from outer...       2\n",
      "2   A8e9gvrZEps  [Music] [Music] [Music] all right going to sho...       3\n",
      "3   HJG96xfyOk4  hello guys welcome again to uh your boys chann...       2\n",
      "4   V0NGZcorqZ4  australia's fire season has well and truly pas...       2\n",
      "5   kj5ZEtCcnQk  good morning good afternoon or good evening be...       2\n",
      "6   VzM5X4udX1E  who killed jfk and why well what i know is tha...       2\n",
      "7   eadUggsvmNo  hey guys how's it going um i have technical pr...       3\n",
      "8   uYF3KLv0_3A  okay so what i wanted to talk to you guys abou...       2\n",
      "9   H4iwjnbHkCw  the very word secrecy is repugnant in a free a...       3\n",
      "10  x5p18S_S8N0  sydney australia july 1992. peter curry awakes...       3\n",
      "11  cMLaJsSrZuQ  bob lazar is someone who became famous back in...       3\n",
      "12  gslI7cu1C4M  NARRATOR: Giza, Egypt. In 1977 and then again ...       2\n",
      "13  tdcDGKXGTsg  What will be the world of 4th IR or new age or...       2\n",
      "14  24d9BFtXPbc  [Music] welcome to walmart your new world orde...       2\n",
      "15  61gIgxFXy9U  silicon valley nestled in the southern san fra...       3\n",
      "16  QE3hR3rMHOI  did you know that before winter millions of bi...       2\n",
      "17  0uBYomUSOoM  in the past years many pieces of evidence are ...       2\n",
      "18  pMy2Lf40Xts  NARRATOR: Spring 2013,\\nthe Mars One project s...       2\n",
      "19  sIBR4ZSnSFQ  1971 eastern india it was here at the sanskrit...       2\n",
      "20  8eqtEw2AMTw  we know that reagan really didn't respond to a...       2\n",
      "21  KvkbKVwYT1A  going like this so max egan if you guys know w...       2\n",
      "22  bhMEqrpf5xM  if the earth were truly a globe the arctic and...       2\n",
      "23  cuZ6oA9MqhE  the class Dinosauria was originally defined by...       2\n",
      "24  I8h7unfqCLw  let's talk about the ISS for a moment the ISS ...       2\n",
      "25  uMIG00gPyns  flight route data has revealed the walls of th...       3\n",
      "26  yk-z-XHvNqM  how far away is the Sun so I did this mmm comp...       2\n"
     ]
    }
   ],
   "source": [
    "print(autumn_df)"
   ]
  },
  {
   "cell_type": "code",
   "execution_count": 8,
   "id": "ba332403-7cf2-424d-a32c-adfc19c01982",
   "metadata": {},
   "outputs": [
    {
     "name": "stdout",
     "output_type": "stream",
     "text": [
      "     Unnamed: 0          IDs  \\\n",
      "0             1  _0ah0X92wdY   \n",
      "1             2  VCS4fXFmCyA   \n",
      "2             3  67Gl3s3K-iY   \n",
      "3             4  QeHGDr81XwM   \n",
      "4             5  MyvZFxYZWPM   \n",
      "..          ...          ...   \n",
      "573         574  areIv5h_vss   \n",
      "574         575  4FN12sqoC4Y   \n",
      "575         576  UX5OwBnhksY   \n",
      "576         577  JYxJkq5B6ec   \n",
      "577         578  fMxFSfIV3Dc   \n",
      "\n",
      "                                           transcripts  label  \n",
      "0    do not attempt to make any of the devices show...      1  \n",
      "1    oh my word do we really need another two to th...      1  \n",
      "2    hi there thanks to modern gadgets every person...      1  \n",
      "3    Hello friends in this video I will show you ho...      1  \n",
      "4    roundly hated widely loved the ar-15 rifle can...      2  \n",
      "..                                                 ...    ...  \n",
      "573  [Music] history tells us that adolf hitler dem...      2  \n",
      "574  what is up folks it's will turbo here for dema...      3  \n",
      "575  hey everybody welcome back listen you know one...      3  \n",
      "576  hey so today is november 23rd 2020. i'm here a...      3  \n",
      "577  ig12.com back another video blog on this one w...      3  \n",
      "\n",
      "[578 rows x 4 columns]\n"
     ]
    }
   ],
   "source": [
    "print(final_df)"
   ]
  },
  {
   "cell_type": "code",
   "execution_count": 12,
   "id": "a732a576-9237-45ea-91b9-b5814a5acef0",
   "metadata": {},
   "outputs": [],
   "source": [
    "autumn_df2 = autumn_df.rename({'id': 'IDs', 'transcript': 'transcripts', 'rating': 'label'}, axis=1)"
   ]
  },
  {
   "cell_type": "code",
   "execution_count": 24,
   "id": "68cb1972-4435-4fc6-a81b-c804cf432ec2",
   "metadata": {},
   "outputs": [
    {
     "name": "stdout",
     "output_type": "stream",
     "text": [
      "            IDs                                        transcripts  label\n",
      "0   04wPQu3BC2k  [Music] hey what's up guys tyler here with sec...      2\n",
      "1   WAeBPskvP4Y  oh [Music] so there it is the earth from outer...      2\n",
      "2   A8e9gvrZEps  [Music] [Music] [Music] all right going to sho...      3\n",
      "3   HJG96xfyOk4  hello guys welcome again to uh your boys chann...      2\n",
      "4   V0NGZcorqZ4  australia's fire season has well and truly pas...      2\n",
      "5   kj5ZEtCcnQk  good morning good afternoon or good evening be...      2\n",
      "6   VzM5X4udX1E  who killed jfk and why well what i know is tha...      2\n",
      "7   eadUggsvmNo  hey guys how's it going um i have technical pr...      3\n",
      "8   uYF3KLv0_3A  okay so what i wanted to talk to you guys abou...      2\n",
      "9   H4iwjnbHkCw  the very word secrecy is repugnant in a free a...      3\n",
      "10  x5p18S_S8N0  sydney australia july 1992. peter curry awakes...      3\n",
      "11  cMLaJsSrZuQ  bob lazar is someone who became famous back in...      3\n",
      "12  gslI7cu1C4M  NARRATOR: Giza, Egypt. In 1977 and then again ...      2\n",
      "13  tdcDGKXGTsg  What will be the world of 4th IR or new age or...      2\n",
      "14  24d9BFtXPbc  [Music] welcome to walmart your new world orde...      2\n",
      "15  61gIgxFXy9U  silicon valley nestled in the southern san fra...      3\n",
      "16  QE3hR3rMHOI  did you know that before winter millions of bi...      2\n",
      "17  0uBYomUSOoM  in the past years many pieces of evidence are ...      2\n",
      "18  pMy2Lf40Xts  NARRATOR: Spring 2013,\\nthe Mars One project s...      2\n",
      "19  sIBR4ZSnSFQ  1971 eastern india it was here at the sanskrit...      2\n",
      "20  8eqtEw2AMTw  we know that reagan really didn't respond to a...      2\n",
      "21  KvkbKVwYT1A  going like this so max egan if you guys know w...      2\n",
      "22  bhMEqrpf5xM  if the earth were truly a globe the arctic and...      2\n",
      "23  cuZ6oA9MqhE  the class Dinosauria was originally defined by...      2\n",
      "24  I8h7unfqCLw  let's talk about the ISS for a moment the ISS ...      2\n",
      "25  uMIG00gPyns  flight route data has revealed the walls of th...      3\n",
      "26  yk-z-XHvNqM  how far away is the Sun so I did this mmm comp...      2\n",
      "27\n"
     ]
    }
   ],
   "source": [
    "print(autumn_df2)\n",
    "print(len(autumn_df2))"
   ]
  },
  {
   "cell_type": "code",
   "execution_count": 25,
   "id": "02c4c138-3e18-4d4f-be0c-cd87d8fc1f33",
   "metadata": {},
   "outputs": [],
   "source": [
    "videos_df = final_df.append(autumn_df2)"
   ]
  },
  {
   "cell_type": "code",
   "execution_count": 28,
   "id": "cf6632c5-47af-4638-a2d9-19de49e6e727",
   "metadata": {},
   "outputs": [],
   "source": [
    "index = np.arange(1,len(videos_df)+1,1)"
   ]
  },
  {
   "cell_type": "code",
   "execution_count": 29,
   "id": "aac55077-d0d0-4257-bad4-c377d40cb074",
   "metadata": {},
   "outputs": [
    {
     "data": {
      "text/html": [
       "<div>\n",
       "<style scoped>\n",
       "    .dataframe tbody tr th:only-of-type {\n",
       "        vertical-align: middle;\n",
       "    }\n",
       "\n",
       "    .dataframe tbody tr th {\n",
       "        vertical-align: top;\n",
       "    }\n",
       "\n",
       "    .dataframe thead th {\n",
       "        text-align: right;\n",
       "    }\n",
       "</style>\n",
       "<table border=\"1\" class=\"dataframe\">\n",
       "  <thead>\n",
       "    <tr style=\"text-align: right;\">\n",
       "      <th></th>\n",
       "      <th>Unnamed: 0</th>\n",
       "      <th>IDs</th>\n",
       "      <th>transcripts</th>\n",
       "      <th>label</th>\n",
       "    </tr>\n",
       "  </thead>\n",
       "  <tbody>\n",
       "    <tr>\n",
       "      <th>1</th>\n",
       "      <td>1.0</td>\n",
       "      <td>_0ah0X92wdY</td>\n",
       "      <td>do not attempt to make any of the devices show...</td>\n",
       "      <td>1</td>\n",
       "    </tr>\n",
       "    <tr>\n",
       "      <th>2</th>\n",
       "      <td>2.0</td>\n",
       "      <td>VCS4fXFmCyA</td>\n",
       "      <td>oh my word do we really need another two to th...</td>\n",
       "      <td>1</td>\n",
       "    </tr>\n",
       "    <tr>\n",
       "      <th>3</th>\n",
       "      <td>3.0</td>\n",
       "      <td>67Gl3s3K-iY</td>\n",
       "      <td>hi there thanks to modern gadgets every person...</td>\n",
       "      <td>1</td>\n",
       "    </tr>\n",
       "    <tr>\n",
       "      <th>4</th>\n",
       "      <td>4.0</td>\n",
       "      <td>QeHGDr81XwM</td>\n",
       "      <td>Hello friends in this video I will show you ho...</td>\n",
       "      <td>1</td>\n",
       "    </tr>\n",
       "    <tr>\n",
       "      <th>5</th>\n",
       "      <td>5.0</td>\n",
       "      <td>MyvZFxYZWPM</td>\n",
       "      <td>roundly hated widely loved the ar-15 rifle can...</td>\n",
       "      <td>2</td>\n",
       "    </tr>\n",
       "    <tr>\n",
       "      <th>...</th>\n",
       "      <td>...</td>\n",
       "      <td>...</td>\n",
       "      <td>...</td>\n",
       "      <td>...</td>\n",
       "    </tr>\n",
       "    <tr>\n",
       "      <th>601</th>\n",
       "      <td>NaN</td>\n",
       "      <td>bhMEqrpf5xM</td>\n",
       "      <td>if the earth were truly a globe the arctic and...</td>\n",
       "      <td>2</td>\n",
       "    </tr>\n",
       "    <tr>\n",
       "      <th>602</th>\n",
       "      <td>NaN</td>\n",
       "      <td>cuZ6oA9MqhE</td>\n",
       "      <td>the class Dinosauria was originally defined by...</td>\n",
       "      <td>2</td>\n",
       "    </tr>\n",
       "    <tr>\n",
       "      <th>603</th>\n",
       "      <td>NaN</td>\n",
       "      <td>I8h7unfqCLw</td>\n",
       "      <td>let's talk about the ISS for a moment the ISS ...</td>\n",
       "      <td>2</td>\n",
       "    </tr>\n",
       "    <tr>\n",
       "      <th>604</th>\n",
       "      <td>NaN</td>\n",
       "      <td>uMIG00gPyns</td>\n",
       "      <td>flight route data has revealed the walls of th...</td>\n",
       "      <td>3</td>\n",
       "    </tr>\n",
       "    <tr>\n",
       "      <th>605</th>\n",
       "      <td>NaN</td>\n",
       "      <td>yk-z-XHvNqM</td>\n",
       "      <td>how far away is the Sun so I did this mmm comp...</td>\n",
       "      <td>2</td>\n",
       "    </tr>\n",
       "  </tbody>\n",
       "</table>\n",
       "<p>605 rows × 4 columns</p>\n",
       "</div>"
      ],
      "text/plain": [
       "     Unnamed: 0          IDs  \\\n",
       "1           1.0  _0ah0X92wdY   \n",
       "2           2.0  VCS4fXFmCyA   \n",
       "3           3.0  67Gl3s3K-iY   \n",
       "4           4.0  QeHGDr81XwM   \n",
       "5           5.0  MyvZFxYZWPM   \n",
       "..          ...          ...   \n",
       "601         NaN  bhMEqrpf5xM   \n",
       "602         NaN  cuZ6oA9MqhE   \n",
       "603         NaN  I8h7unfqCLw   \n",
       "604         NaN  uMIG00gPyns   \n",
       "605         NaN  yk-z-XHvNqM   \n",
       "\n",
       "                                           transcripts  label  \n",
       "1    do not attempt to make any of the devices show...      1  \n",
       "2    oh my word do we really need another two to th...      1  \n",
       "3    hi there thanks to modern gadgets every person...      1  \n",
       "4    Hello friends in this video I will show you ho...      1  \n",
       "5    roundly hated widely loved the ar-15 rifle can...      2  \n",
       "..                                                 ...    ...  \n",
       "601  if the earth were truly a globe the arctic and...      2  \n",
       "602  the class Dinosauria was originally defined by...      2  \n",
       "603  let's talk about the ISS for a moment the ISS ...      2  \n",
       "604  flight route data has revealed the walls of th...      3  \n",
       "605  how far away is the Sun so I did this mmm comp...      2  \n",
       "\n",
       "[605 rows x 4 columns]"
      ]
     },
     "execution_count": 29,
     "metadata": {},
     "output_type": "execute_result"
    }
   ],
   "source": [
    "videos_df.set_index(index)"
   ]
  },
  {
   "cell_type": "code",
   "execution_count": 31,
   "id": "76bae17b-ab53-4836-99d1-003eaa65cd26",
   "metadata": {},
   "outputs": [],
   "source": [
    "videos_df.to_csv('videos.csv', columns = ['IDs', 'transcripts', 'label'], index = False)"
   ]
  }
 ],
 "metadata": {
  "kernelspec": {
   "display_name": "Python 3 (ipykernel)",
   "language": "python",
   "name": "python3"
  },
  "language_info": {
   "codemirror_mode": {
    "name": "ipython",
    "version": 3
   },
   "file_extension": ".py",
   "mimetype": "text/x-python",
   "name": "python",
   "nbconvert_exporter": "python",
   "pygments_lexer": "ipython3",
   "version": "3.8.12"
  }
 },
 "nbformat": 4,
 "nbformat_minor": 5
}
